{
 "cells": [
  {
   "cell_type": "markdown",
   "id": "fef2981d",
   "metadata": {},
   "source": [
    "Test notebook"
   ]
  },
  {
   "cell_type": "code",
   "execution_count": 1,
   "id": "063859ee",
   "metadata": {},
   "outputs": [],
   "source": [
    "import missingno as msno\n",
    "import json"
   ]
  },
  {
   "cell_type": "code",
   "execution_count": 11,
   "id": "7baf0453",
   "metadata": {},
   "outputs": [],
   "source": [
    "from pathlib import Path\n",
    "from sqlalchemy import create_engine, text\n",
    "\n",
    "database_path = Path(\"Resources/all_data_db\")\n",
    "engine = create_engine(f\"sqlite:///{database_path}\")\n",
    "conn = engine.connect()"
   ]
  },
  {
   "cell_type": "code",
   "execution_count": null,
   "id": "45c9e6f4",
   "metadata": {},
   "outputs": [],
   "source": [
    "test_df"
   ]
  },
  {
   "cell_type": "code",
   "execution_count": 12,
   "id": "31251397",
   "metadata": {},
   "outputs": [],
   "source": [
    "# make sure to install these packages before running:\n",
    "# pip install pandas\n",
    "# pip install sodapy\n",
    "import pandas as pd\n",
    "from sodapy import Socrata\n",
    "# Unauthenticated client only works with public data sets. Note 'None'\n",
    "# in place of application token, and no username or password:\n",
    "client = Socrata(\"data.cdc.gov\", \"EFNBqmxGvnQGiCh9hkvXpGqiK\")\n",
    "\n",
    "# Example authenticated client (needed for non-public datasets):\n",
    "# client = Socrata(data.cdc.gov,\n",
    "#                  MyAppToken,\n",
    "#                  username=\"user@example.com\",\n",
    "#                  password=\"AFakePassword\")\n",
    "\n",
    "# First 2000 results, returned as JSON from API / converted to Python list of\n",
    "# dictionaries by sodapy.\n",
    "results = client.get(\"hn4x-zwk7\", limit=100000)\n",
    "\n",
    "# Convert to pandas DataFrame\n",
    "results_json = pd.DataFrame.from_records(results)\n",
    "\n",
    "# Convert to csv. Then put int\n",
    "test_df = results_json.to_csv(\"Resources/testing.csv\", encoding='utf-8', index=False)"
   ]
  },
  {
   "cell_type": "code",
   "execution_count": null,
   "id": "e763e60f",
   "metadata": {},
   "outputs": [],
   "source": [
    "#3d Plot by HLee\n",
    "import numpy as np\n",
    "import matplotlib.pyplot as plt\n",
    "from mpl_toolkits.mplot3d import Axes3D\n",
    "from matplotlib import cm\n",
    "from matplotlib.ticker import LinearLocator\n",
    "\n",
    "age = np.unique(np.array(q037_2022_states_age['Age(years)']))\n",
    "state = np.unique(np.array(q037_2022_states_age['LocationAbbr']))\n",
    "\n",
    "XUniques, Xt = np.unique(q037_2022_states_age['LocationAbbr'], return_inverse=True)\n",
    "YUniques, Yt = np.unique(q037_2022_states_age['Age(years)'], return_inverse=True)\n",
    "Zt = q037_2022_states_age['Data_Value']\n",
    "\n",
    "#figsize large due to state abbr, need another solution for prettiness, works for now, contrained isnt being applied\n",
    "fig=plt.figure(figsize=(20,20),layout='constrained')\n",
    "ax= fig.add_subplot(projection='3d')\n",
    "#color function needs fix\n",
    "ax.scatter(Xt, Yt, Zt, c=np.arange((len(state)*6)), cmap=cm.coolwarm,linewidth=0, antialiased=False)\n",
    "\n",
    "ax.set_xticks(range(len(state)), labels=state, ha='right',rotation=45)\n",
    "ax.set_yticks(range(len(age)), labels=age, ha='left')\n",
    "plt.show()\n",
    "\n",
    "                  "
   ]
  },
  {
   "cell_type": "code",
   "execution_count": null,
   "id": "64736848",
   "metadata": {},
   "outputs": [],
   "source": [
    "resulting_df = pd.read_csv('testing.csv')\n",
    "resulting_df"
   ]
  },
  {
   "cell_type": "code",
   "execution_count": null,
   "id": "fe1337c3",
   "metadata": {
    "scrolled": true
   },
   "outputs": [],
   "source": [
    "results_csv_df = pd.read_csv('Nutrition__Physical_Activity__and_Obesity_-_Behavioral_Risk_Factor_Surveillance_System.csv')\n",
    "results_csv_df.info"
   ]
  },
  {
   "cell_type": "code",
   "execution_count": null,
   "id": "efc15de3",
   "metadata": {},
   "outputs": [],
   "source": [
    "#results_csv_df.loc[results_csv_df[\"QuestionID\"] == \"Q047\"]"
   ]
  },
  {
   "cell_type": "code",
   "execution_count": null,
   "id": "e78efa8b",
   "metadata": {},
   "outputs": [],
   "source": [
    "results_csv_cleaned = results_csv_df.dropna(subset=['Data_Value_Unit'])\n",
    "results_csv_cleaned"
   ]
  },
  {
   "cell_type": "code",
   "execution_count": null,
   "id": "8651c18e",
   "metadata": {},
   "outputs": [],
   "source": [
    "results_df"
   ]
  },
  {
   "cell_type": "code",
   "execution_count": null,
   "id": "decc4528",
   "metadata": {},
   "outputs": [],
   "source": []
  }
 ],
 "metadata": {
  "kernelspec": {
   "display_name": "Python 3 (ipykernel)",
   "language": "python",
   "name": "python3"
  },
  "language_info": {
   "codemirror_mode": {
    "name": "ipython",
    "version": 3
   },
   "file_extension": ".py",
   "mimetype": "text/x-python",
   "name": "python",
   "nbconvert_exporter": "python",
   "pygments_lexer": "ipython3",
   "version": "3.10.13"
  }
 },
 "nbformat": 4,
 "nbformat_minor": 5
}
