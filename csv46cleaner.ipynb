{
 "cells": [
  {
   "cell_type": "code",
   "execution_count": 1,
   "id": "b0c0e027",
   "metadata": {},
   "outputs": [],
   "source": [
    "import pandas as pd\n"
   ]
  },
  {
   "cell_type": "code",
   "execution_count": 2,
   "id": "b24bf33f",
   "metadata": {},
   "outputs": [],
   "source": [
    "# Specify the file path to your CSV file\n",
    "file_path = \"Q046.csv\"\n",
    "\n",
    "# Read the CSV file into a Pandas DataFrame\n",
    "df = pd.read_csv(file_path)"
   ]
  },
  {
   "cell_type": "code",
   "execution_count": 4,
   "id": "4035b3ef",
   "metadata": {},
   "outputs": [],
   "source": [
    "# NB: exploratory code to look at the dataframe and find names of columns is not included.\n",
    "\n",
    "# remove \"income not reported stratification\" rows\n",
    "df = df[df['StratificationID1'] != 'INCNR']\n",
    "\n",
    "# remove all rows with a footnote, always \"info not available\"\n",
    "df = df[df['Data_Value_Footnote_Symbol'] != '~']\n",
    "\n",
    "# remove rows with territories we aren't looking at\n",
    "excluded_values = ['Guam', 'Puerto Rico']\n",
    "df = df[~df['LocationDesc'].isin(excluded_values)]\n",
    "\n",
    "# remove data with location as \"National\", not sure what it's for\n",
    "df = df[df['LocationDesc'] != 'National']"
   ]
  },
  {
   "cell_type": "code",
   "execution_count": null,
   "id": "41c50b7b",
   "metadata": {},
   "outputs": [],
   "source": [
    "df.info()"
   ]
  },
  {
   "cell_type": "code",
   "execution_count": null,
   "id": "864ef516",
   "metadata": {},
   "outputs": [],
   "source": [
    "# finds unique values of a column and counts them\n",
    "# 'column' is a placeholder obv\n",
    "value_counts = df['LocationDesc'].value_counts()\n",
    "print(value_counts)\n"
   ]
  },
  {
   "cell_type": "code",
   "execution_count": 5,
   "id": "c41d5eb7",
   "metadata": {},
   "outputs": [],
   "source": [
    "df.to_csv('cleanishQ046.csv', index=False)"
   ]
  }
 ],
 "metadata": {
  "kernelspec": {
   "display_name": "Python 3 (ipykernel)",
   "language": "python",
   "name": "python3"
  },
  "language_info": {
   "codemirror_mode": {
    "name": "ipython",
    "version": 3
   },
   "file_extension": ".py",
   "mimetype": "text/x-python",
   "name": "python",
   "nbconvert_exporter": "python",
   "pygments_lexer": "ipython3",
   "version": "3.10.13"
  }
 },
 "nbformat": 4,
 "nbformat_minor": 5
}
